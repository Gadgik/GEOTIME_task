{
 "cells": [
  {
   "cell_type": "code",
   "execution_count": null,
   "metadata": {},
   "outputs": [],
   "source": [
    "pip install geopy"
   ]
  },
  {
   "cell_type": "markdown",
   "metadata": {},
   "source": [
    "# Загрузка библиотек"
   ]
  },
  {
   "cell_type": "code",
   "execution_count": 1,
   "metadata": {},
   "outputs": [],
   "source": [
    "import pandas as pd\n",
    "import numpy as np\n",
    "import os\n",
    "from sklearn.cluster import KMeans\n",
    "from geopy.distance import geodesic # геодезическое расстояние между точками по поверхности Земли\n",
    "import matplotlib.pyplot as plt\n",
    "import seaborn as sns\n",
    "from sklearn.cluster import KMeans\n",
    "from sklearn.model_selection import train_test_split\n",
    "from catboost import CatBoostRegressor\n",
    "%matplotlib inline\n",
    "\n",
    "import warnings                                  # `do not disturbe` mode\n",
    "warnings.filterwarnings('ignore')"
   ]
  },
  {
   "cell_type": "markdown",
   "metadata": {},
   "source": [
    "# Загрузка данных"
   ]
  },
  {
   "cell_type": "code",
   "execution_count": 2,
   "metadata": {},
   "outputs": [],
   "source": [
    "train = pd.read_csv(\"train.csv.zip\", compression=\"zip\")\n",
    "test = pd.read_csv(\"test.csv\")"
   ]
  },
  {
   "cell_type": "code",
   "execution_count": 3,
   "metadata": {},
   "outputs": [],
   "source": [
    "train = train[:1000000]"
   ]
  },
  {
   "cell_type": "markdown",
   "metadata": {},
   "source": [
    "# Очистка данных"
   ]
  },
  {
   "cell_type": "code",
   "execution_count": 4,
   "metadata": {},
   "outputs": [],
   "source": [
    "pd.options.display.float_format = '{:.2f}'.format # отображение float"
   ]
  },
  {
   "cell_type": "code",
   "execution_count": null,
   "metadata": {},
   "outputs": [],
   "source": [
    "def box_plot(df):\n",
    "    numerical_features=list(df.columns)\n",
    "    numerical_features.remove('pickup_datetime')\n",
    "    numerical_features.remove('key')\n",
    "    print(numerical_features)\n",
    "    print(df[numerical_features].describe())\n",
    "    df[numerical_features].plot(kind='box', subplots=True, layout=(len(numerical_features) // 3 + 1, 3), figsize=(10, 10), sharex=False, sharey=False)"
   ]
  },
  {
   "cell_type": "code",
   "execution_count": null,
   "metadata": {},
   "outputs": [],
   "source": [
    "box_plot(train)"
   ]
  },
  {
   "cell_type": "code",
   "execution_count": null,
   "metadata": {},
   "outputs": [],
   "source": [
    "box_plot(test)"
   ]
  },
  {
   "cell_type": "code",
   "execution_count": 5,
   "metadata": {},
   "outputs": [],
   "source": [
    "def clean_df(df):\n",
    "    criteria = (\n",
    "        \" 0 < fare_amount <= 500\"\n",
    "        \" and 0 < passenger_count <= 6 \"\n",
    "        \" and -75 <= pickup_longitude <= -72 \"\n",
    "        \" and -75 <= dropoff_longitude <= -72 \"\n",
    "        \" and 40 <= pickup_latitude <= 42 \"\n",
    "        \" and 40 <= dropoff_latitude <= 42 \"\n",
    "    )\n",
    "    df = (df\n",
    "          .dropna()\n",
    "          .query(criteria)\n",
    "          .reset_index()       \n",
    "         )\n",
    "    return df"
   ]
  },
  {
   "cell_type": "code",
   "execution_count": 6,
   "metadata": {},
   "outputs": [],
   "source": [
    "train = clean_df(train).drop(columns = ['index'])"
   ]
  },
  {
   "cell_type": "code",
   "execution_count": null,
   "metadata": {},
   "outputs": [],
   "source": [
    "box_plot(train)"
   ]
  },
  {
   "cell_type": "markdown",
   "metadata": {},
   "source": [
    "# Временные признаки"
   ]
  },
  {
   "cell_type": "code",
   "execution_count": 7,
   "metadata": {},
   "outputs": [],
   "source": [
    "def add_time_features(df):\n",
    "    df['pickup_datetime'] = pd.to_datetime(df['pickup_datetime'])\n",
    "    df['year'] = df['pickup_datetime'].dt.year\n",
    "    df['month'] = df['pickup_datetime'].dt.month\n",
    "    df['day'] = df['pickup_datetime'].dt.day\n",
    "    df['hour'] = df['pickup_datetime'].dt.hour\n",
    "    df['day_of_week'] = df['pickup_datetime'].dt.dayofweek\n",
    "\n",
    "    # Бинарные признаки\n",
    "    df['is_weekend'] = df['day_of_week'].isin([5, 6]).astype(int)  # Суббота и воскресенье\n",
    "    df['is_holiday'] = df['pickup_datetime'].dt.strftime('%m-%d').isin(['01-01', '07-04', '12-25']).astype(int)  # Пример праздников\n",
    "\n",
    "    # Циклические признаки\n",
    "    df['hour_sin'] = np.sin(2 * np.pi * df['hour'] / 24)\n",
    "    df['hour_cos'] = np.cos(2 * np.pi * df['hour'] / 24)\n",
    "    df['month_sin'] = np.sin(2 * np.pi * df['month'] / 12)\n",
    "    df['month_cos'] = np.cos(2 * np.pi * df['month'] / 12)\n",
    "    \n",
    "    df.drop('pickup_datetime', axis=1, inplace=True)\n",
    "\n",
    "    return df"
   ]
  },
  {
   "cell_type": "markdown",
   "metadata": {},
   "source": [
    "# Географические признаки"
   ]
  },
  {
   "cell_type": "code",
   "execution_count": null,
   "metadata": {},
   "outputs": [],
   "source": [
    "from matplotlib.colors import LinearSegmentedColormap"
   ]
  },
  {
   "cell_type": "code",
   "execution_count": null,
   "metadata": {},
   "outputs": [],
   "source": [
    "#поиск значимыых точек\n",
    "plt.figure(figsize=(10,10))\n",
    "\n",
    "cmap = LinearSegmentedColormap.from_list(name='name', colors=['green','yellow','red'])\n",
    "\n",
    "f, ax = plt.subplots()\n",
    "points = ax.scatter(train['dropoff_longitude']-train['pickup_longitude'], train['dropoff_latitude']-train['pickup_latitude'], c=train['fare_amount'],\n",
    "                    s=10, cmap=cmap)\n",
    "f.colorbar(points)"
   ]
  },
  {
   "cell_type": "code",
   "execution_count": 8,
   "metadata": {},
   "outputs": [],
   "source": [
    "def distance(x1,y1,x2,y2):\n",
    "    return  geodesic((x1,y1),(x2,y2)).km"
   ]
  },
  {
   "cell_type": "code",
   "execution_count": 9,
   "metadata": {},
   "outputs": [],
   "source": [
    "def add_geo_features(df):\n",
    "    # значимые места\n",
    "    nyc=(40.724944, -74.001541)\n",
    "\n",
    "    # расстояние между посадкой и высадкой\n",
    "    df['distance'] = df.apply(\n",
    "        lambda row: distance(row['pickup_latitude'], row['pickup_longitude'], row['dropoff_latitude'], row['dropoff_longitude']),\n",
    "        axis=1\n",
    "    )\n",
    "    # расстояние между точками\n",
    "    df['abs_long_diff'] = np.abs(df.dropoff_longitude - df.pickup_longitude)\n",
    "    df['abs_lat_diff'] = np.abs(df.dropoff_latitude - df.pickup_latitude)\n",
    "\n",
    "    # Расстояние от точки посадки и высадки до Нью-Йорка\n",
    "    df['pickup_distance_to_nyc'] = df.apply(\n",
    "        lambda row: distance(nyc[0], nyc[1], row['pickup_latitude'], row['pickup_longitude']),\n",
    "        axis=1\n",
    "    )\n",
    "    df['dropoff_distance_to_nyc'] = df.apply(\n",
    "        lambda row: distance(nyc[0], nyc[1], row['dropoff_latitude'], row['dropoff_longitude']),\n",
    "        axis=1\n",
    "    )\n",
    "\n",
    "    # Кластеризация K-средних\n",
    "    kmeans_dropoff = KMeans(n_clusters=2)\n",
    "    df['cluster_dropoff'] = kmeans_dropoff.fit_predict(df[['dropoff_latitude', 'dropoff_longitude']])\n",
    "\n",
    "    kmeans_pickup = KMeans(n_clusters=2)\n",
    "    df['cluster_pickup'] = kmeans_pickup.fit_predict(df[['pickup_latitude', 'pickup_longitude']])\n",
    "\n",
    "    # Признаки синус-косинус для направления\n",
    "    df['dr_lat_sin'] = np.sin(np.radians(df['dropoff_latitude']))\n",
    "    df['dr_lat_cos'] = np.cos(np.radians(df['dropoff_latitude']))\n",
    "    df['dr_lon_sin'] = np.sin(np.radians(df['dropoff_longitude']))\n",
    "    df['dr_lon_cos'] = np.cos(np.radians(df['dropoff_longitude']))\n",
    "\n",
    "    df['pi_lat_sin'] = np.sin(np.radians(df['pickup_latitude']))\n",
    "    df['pi_lat_cos'] = np.cos(np.radians(df['pickup_latitude']))\n",
    "    df['pi_lon_sin'] = np.sin(np.radians(df['pickup_longitude']))\n",
    "    df['pi_lon_cos'] = np.cos(np.radians(df['pickup_longitude']))\n",
    "\n",
    "    return df"
   ]
  },
  {
   "cell_type": "markdown",
   "metadata": {},
   "source": [
    "# Подготовка датасетов"
   ]
  },
  {
   "cell_type": "code",
   "execution_count": 10,
   "metadata": {},
   "outputs": [],
   "source": [
    "def final_desc(df):\n",
    "    print(df)\n",
    "\n",
    "    numerical_features=list(df.columns)\n",
    "    numerical_features.remove('pickup_datetime')\n",
    "    numerical_features.remove('key')\n",
    "\n",
    "    print(numerical_features)\n",
    "\n",
    "    print(df[numerical_features].describe())\n",
    "\n",
    "    print(df.isna().sum().sum())\n",
    "    \n",
    "    df[numerical_features].hist(bins=50, figsize=(10, 10))"
   ]
  },
  {
   "cell_type": "code",
   "execution_count": 11,
   "metadata": {},
   "outputs": [],
   "source": [
    "train = add_time_features(train)\n",
    "test = add_time_features(test)"
   ]
  },
  {
   "cell_type": "code",
   "execution_count": 12,
   "metadata": {},
   "outputs": [],
   "source": [
    "train = add_geo_features(train)\n",
    "test = add_geo_features(test)"
   ]
  },
  {
   "cell_type": "code",
   "execution_count": null,
   "metadata": {},
   "outputs": [],
   "source": [
    "train"
   ]
  },
  {
   "cell_type": "markdown",
   "metadata": {},
   "source": [
    "# Разделение данных"
   ]
  },
  {
   "cell_type": "code",
   "execution_count": 13,
   "metadata": {},
   "outputs": [],
   "source": [
    "train.drop(['key'], axis=1, inplace=True)"
   ]
  },
  {
   "cell_type": "code",
   "execution_count": 14,
   "metadata": {},
   "outputs": [],
   "source": [
    "x = train.drop(['fare_amount'], axis=1)\n",
    "y = train['fare_amount']\n",
    "#del(train)"
   ]
  },
  {
   "cell_type": "code",
   "execution_count": 15,
   "metadata": {},
   "outputs": [],
   "source": [
    "x_train, x_val, y_train, y_val = train_test_split(x, y, random_state=42, test_size=0.15)\n",
    "del(x)\n",
    "del(y)"
   ]
  },
  {
   "cell_type": "markdown",
   "metadata": {},
   "source": [
    "# Создание и обучение модели"
   ]
  },
  {
   "cell_type": "code",
   "execution_count": 21,
   "metadata": {},
   "outputs": [],
   "source": [
    "model = CatBoostRegressor(\n",
    "    iterations=10000,\n",
    "    learning_rate=0.05,\n",
    "    depth=10,\n",
    "    loss_function='RMSE',\n",
    "    eval_metric='RMSE',\n",
    "    task_type='GPU',\n",
    "    random_seed=42,\n",
    "    verbose=200\n",
    ")"
   ]
  },
  {
   "cell_type": "code",
   "execution_count": 22,
   "metadata": {},
   "outputs": [
    {
     "name": "stdout",
     "output_type": "stream",
     "text": [
      "0:\tlearn: 9.3902261\ttest: 9.3717227\tbest: 9.3717227 (0)\ttotal: 9.48ms\tremaining: 1m 34s\n",
      "200:\tlearn: 3.7194956\ttest: 3.9942561\tbest: 3.9942561 (200)\ttotal: 1.74s\tremaining: 1m 25s\n",
      "400:\tlearn: 3.4564245\ttest: 3.9228298\tbest: 3.9228298 (400)\ttotal: 3.51s\tremaining: 1m 24s\n",
      "600:\tlearn: 3.2912390\ttest: 3.8970534\tbest: 3.8969326 (599)\ttotal: 5.26s\tremaining: 1m 22s\n",
      "800:\tlearn: 3.1727455\ttest: 3.8838791\tbest: 3.8838791 (800)\ttotal: 7.02s\tremaining: 1m 20s\n",
      "1000:\tlearn: 3.0780370\ttest: 3.8788551\tbest: 3.8781526 (970)\ttotal: 8.79s\tremaining: 1m 19s\n",
      "1200:\tlearn: 2.9989812\ttest: 3.8718285\tbest: 3.8716877 (1195)\ttotal: 10.6s\tremaining: 1m 17s\n",
      "1400:\tlearn: 2.9334308\ttest: 3.8675245\tbest: 3.8675168 (1397)\ttotal: 12.3s\tremaining: 1m 15s\n",
      "1600:\tlearn: 2.8733150\ttest: 3.8658376\tbest: 3.8656445 (1550)\ttotal: 14.1s\tremaining: 1m 13s\n",
      "1800:\tlearn: 2.8226328\ttest: 3.8649811\tbest: 3.8648202 (1796)\ttotal: 15.8s\tremaining: 1m 11s\n",
      "2000:\tlearn: 2.7759304\ttest: 3.8637500\tbest: 3.8637412 (1990)\ttotal: 17.6s\tremaining: 1m 10s\n",
      "2200:\tlearn: 2.7342419\ttest: 3.8631914\tbest: 3.8631664 (2198)\ttotal: 19.3s\tremaining: 1m 8s\n",
      "2400:\tlearn: 2.6933074\ttest: 3.8616713\tbest: 3.8616335 (2399)\ttotal: 21.1s\tremaining: 1m 6s\n",
      "2600:\tlearn: 2.6556493\ttest: 3.8606511\tbest: 3.8603184 (2584)\ttotal: 22.8s\tremaining: 1m 4s\n",
      "2800:\tlearn: 2.6193218\ttest: 3.8599584\tbest: 3.8599097 (2799)\ttotal: 24.6s\tremaining: 1m 3s\n",
      "3000:\tlearn: 2.5860111\ttest: 3.8593180\tbest: 3.8592042 (2994)\ttotal: 26.3s\tremaining: 1m 1s\n",
      "3200:\tlearn: 2.5544557\ttest: 3.8591750\tbest: 3.8589570 (3057)\ttotal: 28.1s\tremaining: 59.7s\n",
      "3400:\tlearn: 2.5250292\ttest: 3.8597783\tbest: 3.8589570 (3057)\ttotal: 29.9s\tremaining: 57.9s\n",
      "3600:\tlearn: 2.4968336\ttest: 3.8594722\tbest: 3.8589570 (3057)\ttotal: 31.6s\tremaining: 56.2s\n",
      "3800:\tlearn: 2.4712388\ttest: 3.8596656\tbest: 3.8589570 (3057)\ttotal: 33.3s\tremaining: 54.4s\n",
      "4000:\tlearn: 2.4461905\ttest: 3.8595070\tbest: 3.8589570 (3057)\ttotal: 35.1s\tremaining: 52.6s\n",
      "4200:\tlearn: 2.4231525\ttest: 3.8595973\tbest: 3.8589570 (3057)\ttotal: 36.9s\tremaining: 50.9s\n",
      "4400:\tlearn: 2.4008732\ttest: 3.8600602\tbest: 3.8589570 (3057)\ttotal: 38.7s\tremaining: 49.2s\n",
      "4600:\tlearn: 2.3786109\ttest: 3.8606965\tbest: 3.8589570 (3057)\ttotal: 40.5s\tremaining: 47.5s\n",
      "4800:\tlearn: 2.3575117\ttest: 3.8600777\tbest: 3.8589570 (3057)\ttotal: 42.2s\tremaining: 45.7s\n",
      "5000:\tlearn: 2.3370901\ttest: 3.8606047\tbest: 3.8589570 (3057)\ttotal: 44s\tremaining: 44s\n",
      "5200:\tlearn: 2.3169161\ttest: 3.8608901\tbest: 3.8589570 (3057)\ttotal: 45.8s\tremaining: 42.2s\n",
      "5400:\tlearn: 2.2969892\ttest: 3.8605737\tbest: 3.8589570 (3057)\ttotal: 47.5s\tremaining: 40.5s\n",
      "5600:\tlearn: 2.2785022\ttest: 3.8608111\tbest: 3.8589570 (3057)\ttotal: 49.3s\tremaining: 38.7s\n",
      "5800:\tlearn: 2.2599444\ttest: 3.8608175\tbest: 3.8589570 (3057)\ttotal: 51s\tremaining: 36.9s\n",
      "6000:\tlearn: 2.2425716\ttest: 3.8609208\tbest: 3.8589570 (3057)\ttotal: 52.8s\tremaining: 35.2s\n",
      "6200:\tlearn: 2.2251344\ttest: 3.8613088\tbest: 3.8589570 (3057)\ttotal: 54.5s\tremaining: 33.4s\n",
      "6400:\tlearn: 2.2087838\ttest: 3.8613831\tbest: 3.8589570 (3057)\ttotal: 56.3s\tremaining: 31.7s\n",
      "6600:\tlearn: 2.1927770\ttest: 3.8613964\tbest: 3.8589570 (3057)\ttotal: 58s\tremaining: 29.9s\n",
      "6800:\tlearn: 2.1768020\ttest: 3.8616238\tbest: 3.8589570 (3057)\ttotal: 59.8s\tremaining: 28.1s\n",
      "7000:\tlearn: 2.1617520\ttest: 3.8621095\tbest: 3.8589570 (3057)\ttotal: 1m 1s\tremaining: 26.4s\n",
      "7200:\tlearn: 2.1462600\ttest: 3.8625250\tbest: 3.8589570 (3057)\ttotal: 1m 3s\tremaining: 24.6s\n",
      "7400:\tlearn: 2.1309577\ttest: 3.8627616\tbest: 3.8589570 (3057)\ttotal: 1m 5s\tremaining: 22.8s\n",
      "7600:\tlearn: 2.1163296\ttest: 3.8633128\tbest: 3.8589570 (3057)\ttotal: 1m 6s\tremaining: 21.1s\n",
      "7800:\tlearn: 2.1029122\ttest: 3.8637109\tbest: 3.8589570 (3057)\ttotal: 1m 8s\tremaining: 19.3s\n",
      "8000:\tlearn: 2.0890718\ttest: 3.8639629\tbest: 3.8589570 (3057)\ttotal: 1m 10s\tremaining: 17.6s\n",
      "8200:\tlearn: 2.0751937\ttest: 3.8639600\tbest: 3.8589570 (3057)\ttotal: 1m 12s\tremaining: 15.8s\n",
      "8400:\tlearn: 2.0619387\ttest: 3.8640569\tbest: 3.8589570 (3057)\ttotal: 1m 13s\tremaining: 14s\n",
      "8600:\tlearn: 2.0485047\ttest: 3.8646379\tbest: 3.8589570 (3057)\ttotal: 1m 15s\tremaining: 12.3s\n",
      "8800:\tlearn: 2.0358206\ttest: 3.8650454\tbest: 3.8589570 (3057)\ttotal: 1m 17s\tremaining: 10.5s\n",
      "9000:\tlearn: 2.0229301\ttest: 3.8649827\tbest: 3.8589570 (3057)\ttotal: 1m 19s\tremaining: 8.77s\n",
      "9200:\tlearn: 2.0100964\ttest: 3.8651493\tbest: 3.8589570 (3057)\ttotal: 1m 20s\tremaining: 7.02s\n",
      "9400:\tlearn: 1.9980749\ttest: 3.8654156\tbest: 3.8589570 (3057)\ttotal: 1m 22s\tremaining: 5.26s\n",
      "9600:\tlearn: 1.9864900\ttest: 3.8659319\tbest: 3.8589570 (3057)\ttotal: 1m 24s\tremaining: 3.5s\n",
      "9800:\tlearn: 1.9745798\ttest: 3.8665441\tbest: 3.8589570 (3057)\ttotal: 1m 26s\tremaining: 1.75s\n",
      "9999:\tlearn: 1.9631452\ttest: 3.8667367\tbest: 3.8589570 (3057)\ttotal: 1m 27s\tremaining: 0us\n",
      "bestTest = 3.858957002\n",
      "bestIteration = 3057\n",
      "Shrink model to first 3058 iterations.\n"
     ]
    },
    {
     "data": {
      "text/plain": [
       "<catboost.core.CatBoostRegressor at 0x22c3de2de10>"
      ]
     },
     "execution_count": 22,
     "metadata": {},
     "output_type": "execute_result"
    }
   ],
   "source": [
    "model.fit(x_train, y_train, eval_set=(x_val, y_val))"
   ]
  },
  {
   "cell_type": "markdown",
   "metadata": {},
   "source": [
    "# Предсказание"
   ]
  },
  {
   "cell_type": "code",
   "execution_count": 23,
   "metadata": {},
   "outputs": [],
   "source": [
    "test_key = test['key']\n",
    "x_pred = test.drop(columns=['key'], axis=1)"
   ]
  },
  {
   "cell_type": "code",
   "execution_count": 24,
   "metadata": {},
   "outputs": [],
   "source": [
    "prediction = model.predict(x_pred)"
   ]
  },
  {
   "cell_type": "code",
   "execution_count": 25,
   "metadata": {},
   "outputs": [],
   "source": [
    "submission = pd.DataFrame({\n",
    "    'key': test['key'],\n",
    "    'fare_amount': prediction,\n",
    "}, columns=['key', 'fare_amount'])"
   ]
  },
  {
   "cell_type": "code",
   "execution_count": 26,
   "metadata": {},
   "outputs": [],
   "source": [
    "submission.to_csv('submission.csv', index=False)"
   ]
  }
 ],
 "metadata": {
  "kernelspec": {
   "display_name": "Python 3",
   "language": "python",
   "name": "python3"
  },
  "language_info": {
   "codemirror_mode": {
    "name": "ipython",
    "version": 3
   },
   "file_extension": ".py",
   "mimetype": "text/x-python",
   "name": "python",
   "nbconvert_exporter": "python",
   "pygments_lexer": "ipython3",
   "version": "3.11.9"
  }
 },
 "nbformat": 4,
 "nbformat_minor": 2
}
